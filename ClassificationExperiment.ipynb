{
 "cells": [
  {
   "cell_type": "code",
   "execution_count": 1,
   "metadata": {
    "scrolled": true
   },
   "outputs": [
    {
     "ename": "FileNotFoundError",
     "evalue": "[Errno 2] No such file or directory: 'linear_data.txt'",
     "output_type": "error",
     "traceback": [
      "\u001b[0;31m---------------------------------------------------------------------------\u001b[0m",
      "\u001b[0;31mFileNotFoundError\u001b[0m                         Traceback (most recent call last)",
      "\u001b[0;32m<ipython-input-1-e68ce262d7a8>\u001b[0m in \u001b[0;36m<module>\u001b[0;34m()\u001b[0m\n\u001b[1;32m     30\u001b[0m \u001b[0;34m\u001b[0m\u001b[0m\n\u001b[1;32m     31\u001b[0m \u001b[0;34m\u001b[0m\u001b[0m\n\u001b[0;32m---> 32\u001b[0;31m \u001b[0mX\u001b[0m\u001b[0;34m,\u001b[0m \u001b[0my\u001b[0m \u001b[0;34m=\u001b[0m \u001b[0mload_svmlight_file\u001b[0m\u001b[0;34m(\u001b[0m\u001b[0;34m\"linear_data.txt\"\u001b[0m\u001b[0;34m)\u001b[0m\u001b[0;34m\u001b[0m\u001b[0m\n\u001b[0m\u001b[1;32m     33\u001b[0m \u001b[0mX\u001b[0m \u001b[0;34m=\u001b[0m \u001b[0mnp\u001b[0m\u001b[0;34m.\u001b[0m\u001b[0marray\u001b[0m\u001b[0;34m(\u001b[0m\u001b[0mX\u001b[0m\u001b[0;34m.\u001b[0m\u001b[0mtodense\u001b[0m\u001b[0;34m(\u001b[0m\u001b[0;34m)\u001b[0m\u001b[0;34m)\u001b[0m\u001b[0;34m\u001b[0m\u001b[0m\n\u001b[1;32m     34\u001b[0m \u001b[0mX_train\u001b[0m\u001b[0;34m,\u001b[0m \u001b[0mX_test\u001b[0m\u001b[0;34m,\u001b[0m \u001b[0my_train\u001b[0m\u001b[0;34m,\u001b[0m \u001b[0my_test\u001b[0m \u001b[0;34m=\u001b[0m \u001b[0mtrain_test_split\u001b[0m\u001b[0;34m(\u001b[0m\u001b[0mX\u001b[0m\u001b[0;34m,\u001b[0m \u001b[0my\u001b[0m\u001b[0;34m,\u001b[0m \u001b[0mtest_size\u001b[0m\u001b[0;34m=\u001b[0m\u001b[0;36m0.33\u001b[0m\u001b[0;34m,\u001b[0m \u001b[0mrandom_state\u001b[0m\u001b[0;34m=\u001b[0m\u001b[0;36m42\u001b[0m\u001b[0;34m)\u001b[0m\u001b[0;34m\u001b[0m\u001b[0m\n",
      "\u001b[0;32m~/anaconda3/lib/python3.6/site-packages/sklearn/datasets/svmlight_format.py\u001b[0m in \u001b[0;36mload_svmlight_file\u001b[0;34m(f, n_features, dtype, multilabel, zero_based, query_id, offset, length)\u001b[0m\n\u001b[1;32m    145\u001b[0m     \"\"\"\n\u001b[1;32m    146\u001b[0m     return tuple(load_svmlight_files([f], n_features, dtype, multilabel,\n\u001b[0;32m--> 147\u001b[0;31m                                      zero_based, query_id, offset, length))\n\u001b[0m\u001b[1;32m    148\u001b[0m \u001b[0;34m\u001b[0m\u001b[0m\n\u001b[1;32m    149\u001b[0m \u001b[0;34m\u001b[0m\u001b[0m\n",
      "\u001b[0;32m~/anaconda3/lib/python3.6/site-packages/sklearn/datasets/svmlight_format.py\u001b[0m in \u001b[0;36mload_svmlight_files\u001b[0;34m(files, n_features, dtype, multilabel, zero_based, query_id, offset, length)\u001b[0m\n\u001b[1;32m    288\u001b[0m     r = [_open_and_load(f, dtype, multilabel, bool(zero_based), bool(query_id),\n\u001b[1;32m    289\u001b[0m                         offset=offset, length=length)\n\u001b[0;32m--> 290\u001b[0;31m          for f in files]\n\u001b[0m\u001b[1;32m    291\u001b[0m \u001b[0;34m\u001b[0m\u001b[0m\n\u001b[1;32m    292\u001b[0m     if (zero_based is False or\n",
      "\u001b[0;32m~/anaconda3/lib/python3.6/site-packages/sklearn/datasets/svmlight_format.py\u001b[0m in \u001b[0;36m<listcomp>\u001b[0;34m(.0)\u001b[0m\n\u001b[1;32m    288\u001b[0m     r = [_open_and_load(f, dtype, multilabel, bool(zero_based), bool(query_id),\n\u001b[1;32m    289\u001b[0m                         offset=offset, length=length)\n\u001b[0;32m--> 290\u001b[0;31m          for f in files]\n\u001b[0m\u001b[1;32m    291\u001b[0m \u001b[0;34m\u001b[0m\u001b[0m\n\u001b[1;32m    292\u001b[0m     if (zero_based is False or\n",
      "\u001b[0;32m~/anaconda3/lib/python3.6/site-packages/sklearn/datasets/svmlight_format.py\u001b[0m in \u001b[0;36m_open_and_load\u001b[0;34m(f, dtype, multilabel, zero_based, query_id, offset, length)\u001b[0m\n\u001b[1;32m    173\u001b[0m     \u001b[0;31m# XXX remove closing when Python 2.7+/3.1+ required\u001b[0m\u001b[0;34m\u001b[0m\u001b[0;34m\u001b[0m\u001b[0m\n\u001b[1;32m    174\u001b[0m     \u001b[0;32melse\u001b[0m\u001b[0;34m:\u001b[0m\u001b[0;34m\u001b[0m\u001b[0m\n\u001b[0;32m--> 175\u001b[0;31m         \u001b[0;32mwith\u001b[0m \u001b[0mclosing\u001b[0m\u001b[0;34m(\u001b[0m\u001b[0m_gen_open\u001b[0m\u001b[0;34m(\u001b[0m\u001b[0mf\u001b[0m\u001b[0;34m)\u001b[0m\u001b[0;34m)\u001b[0m \u001b[0;32mas\u001b[0m \u001b[0mf\u001b[0m\u001b[0;34m:\u001b[0m\u001b[0;34m\u001b[0m\u001b[0m\n\u001b[0m\u001b[1;32m    176\u001b[0m             \u001b[0mactual_dtype\u001b[0m\u001b[0;34m,\u001b[0m \u001b[0mdata\u001b[0m\u001b[0;34m,\u001b[0m \u001b[0mind\u001b[0m\u001b[0;34m,\u001b[0m \u001b[0mindptr\u001b[0m\u001b[0;34m,\u001b[0m \u001b[0mlabels\u001b[0m\u001b[0;34m,\u001b[0m \u001b[0mquery\u001b[0m \u001b[0;34m=\u001b[0m\u001b[0;31m \u001b[0m\u001b[0;31m\\\u001b[0m\u001b[0;34m\u001b[0m\u001b[0m\n\u001b[1;32m    177\u001b[0m                 _load_svmlight_file(f, dtype, multilabel, zero_based, query_id,\n",
      "\u001b[0;32m~/anaconda3/lib/python3.6/site-packages/sklearn/datasets/svmlight_format.py\u001b[0m in \u001b[0;36m_gen_open\u001b[0;34m(f)\u001b[0m\n\u001b[1;32m    162\u001b[0m         \u001b[0;32mreturn\u001b[0m \u001b[0mBZ2File\u001b[0m\u001b[0;34m(\u001b[0m\u001b[0mf\u001b[0m\u001b[0;34m,\u001b[0m \u001b[0;34m\"rb\"\u001b[0m\u001b[0;34m)\u001b[0m\u001b[0;34m\u001b[0m\u001b[0m\n\u001b[1;32m    163\u001b[0m     \u001b[0;32melse\u001b[0m\u001b[0;34m:\u001b[0m\u001b[0;34m\u001b[0m\u001b[0m\n\u001b[0;32m--> 164\u001b[0;31m         \u001b[0;32mreturn\u001b[0m \u001b[0mopen\u001b[0m\u001b[0;34m(\u001b[0m\u001b[0mf\u001b[0m\u001b[0;34m,\u001b[0m \u001b[0;34m\"rb\"\u001b[0m\u001b[0;34m)\u001b[0m\u001b[0;34m\u001b[0m\u001b[0m\n\u001b[0m\u001b[1;32m    165\u001b[0m \u001b[0;34m\u001b[0m\u001b[0m\n\u001b[1;32m    166\u001b[0m \u001b[0;34m\u001b[0m\u001b[0m\n",
      "\u001b[0;31mFileNotFoundError\u001b[0m: [Errno 2] No such file or directory: 'linear_data.txt'"
     ]
    }
   ],
   "source": []
  },
  {
   "cell_type": "code",
   "execution_count": null,
   "metadata": {
    "collapsed": true
   },
   "outputs": [],
   "source": []
  },
  {
   "cell_type": "code",
   "execution_count": null,
   "metadata": {
    "collapsed": true
   },
   "outputs": [],
   "source": [
    "\n",
    "  "
   ]
  },
  {
   "cell_type": "code",
   "execution_count": null,
   "metadata": {
    "collapsed": true
   },
   "outputs": [],
   "source": [
    "import numpy as np\n",
    "import matplotlib\n",
    "import matplotlib.pyplot as plt\n",
    "from sklearn.model_selection import train_test_split\n",
    "from sklearn.datasets import load_svmlight_file\n",
    "from numpy import *\n",
    "\n",
    "def GradientDescent(X_data, y_data, learn_rate, iter_times, X_test, y_test, batch_num):\n",
    "    w = np.zeros((X_data.shape[1] + 1,1))\n",
    "    X_data = np.c_[X_data, ones(X_data.shape[0])]\n",
    "    y_data = array([list(y_data)])\n",
    "    X_data = matrix(X_data)\n",
    "    y_data = matrix(y_data)\n",
    "    y_data = y_data.T\n",
    "\n",
    "    X_test = np.c_[X_test, ones(X_test.shape[0])]\n",
    "    y_test = array([list(y_test)])\n",
    "    X_test = matrix(X_test)\n",
    "    y_test = matrix(y_test)\n",
    "    y_test = y_test.T\n",
    "    w = matrix(w)\n",
    "    w_NAG, L_NAG = NAG(X_data, y_data, w, learn_rate, iter_times, X_test, y_test, batch_num)\n",
    "    w_RMSProp, L_RMSProp = RMSProp(X_data, y_data, w, learn_rate, iter_times, X_test, y_test, batch_num)\n",
    "    w_Adadelta, L_Adadelta = Adadelta(X_data, y_data, w, learn_rate, iter_times, X_test, y_test, batch_num)\n",
    "    w_Adam, L_Adam = Adam(X_data, y_data, w, learn_rate, iter_times, X_test, y_test, batch_num)\n",
    "    return L_NAG, L_RMSProp,L_Adadelta, L_Adam\n",
    "def randChoice(X_data, y_data, num):\n",
    "    data = list(range(num))\n",
    "    newdata = []\n",
    "    for i in range(num):\n",
    "        choice = random.choice(data)\n",
    "        newdata.append(choice)\n",
    "        data.remove(choice)\n",
    "    X_data = matrix(X_data[newdata,:])\n",
    "    y_data = matrix(y_data[newdata,:])\n",
    "    return X_data, y_data\n",
    "\n",
    "def NAG(X_data, y_data, w, learn_rate, iter_times, X_test, y_test, batch_num):\n",
    "    mome = 0.5\n",
    "    momeIncrease = 20\n",
    "    v = matrix(zeros(w.shape))\n",
    "    Loss = []\n",
    "    for i in range(iter_times):\n",
    "        if i == momeIncrease:\n",
    "            mome = 0.9\n",
    "        X_randdata, y_randdata = randChoice(X_data,y_data,batch_num)\n",
    "        f = multiply(y_randdata, X_randdata * (w - mome * v))\n",
    "        grad = - X_randdata.T*(multiply(f < 1, y_randdata)) / X_randdata.shape[0]\n",
    "        v = mome * v + learn_rate * grad\n",
    "        w = w - v\n",
    "        f2 = multiply(y_test, X_test * w)\n",
    "        z = matrix(np.c_[array(1-f2), zeros(f2.shape)])\n",
    "        L = (z.max(1).sum())/X_test.shape[0]\n",
    "        Loss.append(L)\n",
    "    return w, Loss\n",
    "def RMSProp(X_data, y_data, w, learn_rate, iter_times, X_test, y_test, batch_num):\n",
    "    gamma = 0.9\n",
    "    E = matrix(zeros(w.shape))\n",
    "    epsilon = 1e-05\n",
    "    Loss = []\n",
    "    for i in range(iter_times):\n",
    "        X_randdata, y_randdata = randChoice(X_data,y_data,batch_num)\n",
    "        f = multiply(y_randdata, X_randdata * w)\n",
    "        grad = - X_randdata.T*(multiply(f < 1, y_randdata)) / X_randdata.shape[0]\n",
    "        E = gamma * E + (1 - gamma) * multiply(grad, grad)\n",
    "        w = w - multiply(learn_rate / sqrt(E + epsilon), grad) \n",
    "        f2 = multiply(y_test, X_test * w)\n",
    "        z = matrix(np.c_[array(1-f2), zeros(f2.shape)])\n",
    "        L = (z.max(1).sum())/X_test.shape[0]\n",
    "        Loss.append(L)\n",
    "    return w, Loss\n",
    "-\n",
    "def SVM(X, y):\n",
    "    X_train, X_test, y_train, y_test = train_test_split(X, y, test_size=0.33, random_state=42)\n",
    "    L_NAG, L_RMSProp, L_Adadelta, L_Adam = GradientDescent(X_train,y_train,0.001,2000, X_test,y_test,256)\n",
    "    plt.figure('logistic regression')\n",
    "    plt.plot(arange(2000),L_NAG, 'r', label='NAG')\n",
    "    plt.plot(arange(2000),L_RMSProp, 'g', label='RMSProp')\n",
    "    plt.plot(arange(2000),L_Adadelta, 'cyan', label='Adadelta')\n",
    "    plt.plot(arange(2000),L_Adam, 'b', label='Adam')\n",
    "    plt.legend(loc='best')\n",
    "    plt.show()\n",
    "    \n",
    "X, y = load_svmlight_file(\"logistic_data.txt\")\n",
    "X = X.todense()\n",
    "X = np.array(X)\n",
    "SVM(X, y)"
   ]
  }
 ],
 "metadata": {
  "kernelspec": {
   "display_name": "Python 3",
   "language": "python",
   "name": "python3"
  },
  "language_info": {
   "codemirror_mode": {
    "name": "ipython",
    "version": 3
   },
   "file_extension": ".py",
   "mimetype": "text/x-python",
   "name": "python",
   "nbconvert_exporter": "python",
   "pygments_lexer": "ipython3",
   "version": "3.6.3"
  }
 },
 "nbformat": 4,
 "nbformat_minor": 2
}
